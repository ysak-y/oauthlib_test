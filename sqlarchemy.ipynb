{
 "cells": [
  {
   "cell_type": "code",
   "execution_count": 10,
   "metadata": {
    "collapsed": false
   },
   "outputs": [],
   "source": [
    "from sqlalchemy import create_engine, MetaData\n",
    "import sqlalchemy"
   ]
  },
  {
   "cell_type": "code",
   "execution_count": 11,
   "metadata": {
    "collapsed": false
   },
   "outputs": [
    {
     "data": {
      "text/plain": [
       "'1.1.9'"
      ]
     },
     "execution_count": 11,
     "metadata": {},
     "output_type": "execute_result"
    }
   ],
   "source": [
    "sqlalchemy.__version__"
   ]
  },
  {
   "cell_type": "code",
   "execution_count": 12,
   "metadata": {
    "collapsed": false
   },
   "outputs": [],
   "source": [
    "from sqlalchemy.dialects import sqlite\n",
    "engine = create_engine('mysql+pymysql://#{master user name}:#{master password}@#{rds instance name}.cqf4hxoy3azq.us-east-1.rds.ama:3306/my_first_database', echo=True)"
   ]
  },
  {
   "cell_type": "code",
   "execution_count": null,
   "metadata": {
    "collapsed": false
   },
   "outputs": [],
   "source": []
  },
  {
   "cell_type": "code",
   "execution_count": 13,
   "metadata": {
    "collapsed": true
   },
   "outputs": [],
   "source": [
    "from sqlalchemy import Table, Column, Integer, String, ForeignKey\n",
    "metadata = MetaData()"
   ]
  },
  {
   "cell_type": "code",
   "execution_count": 14,
   "metadata": {
    "collapsed": false
   },
   "outputs": [],
   "source": [
    "users = Table('users', metadata,\n",
    "    Column('id', Integer, primary_key=True),\n",
    "    Column('email_address', String(16), nullable=False)\n",
    "             )\n"
   ]
  },
  {
   "cell_type": "code",
   "execution_count": 15,
   "metadata": {
    "collapsed": false
   },
   "outputs": [
    {
     "name": "stdout",
     "output_type": "stream",
     "text": [
      "2017-04-07 23:20:48,399 INFO sqlalchemy.engine.base.Engine SHOW VARIABLES LIKE 'sql_mode'\n",
      "2017-04-07 23:20:48,401 INFO sqlalchemy.engine.base.Engine {}\n",
      "2017-04-07 23:20:48,593 INFO sqlalchemy.engine.base.Engine SELECT DATABASE()\n",
      "2017-04-07 23:20:48,594 INFO sqlalchemy.engine.base.Engine {}\n",
      "2017-04-07 23:20:48,977 INFO sqlalchemy.engine.base.Engine show collation where `Charset` = 'utf8' and `Collation` = 'utf8_bin'\n",
      "2017-04-07 23:20:48,978 INFO sqlalchemy.engine.base.Engine {}\n",
      "2017-04-07 23:20:49,170 INFO sqlalchemy.engine.base.Engine SELECT CAST('test plain returns' AS CHAR(60)) AS anon_1\n",
      "2017-04-07 23:20:49,171 INFO sqlalchemy.engine.base.Engine {}\n",
      "2017-04-07 23:20:49,362 INFO sqlalchemy.engine.base.Engine SELECT CAST('test unicode returns' AS CHAR(60)) AS anon_1\n",
      "2017-04-07 23:20:49,364 INFO sqlalchemy.engine.base.Engine {}\n",
      "2017-04-07 23:20:49,555 INFO sqlalchemy.engine.base.Engine SELECT CAST('test collated returns' AS CHAR CHARACTER SET utf8) COLLATE utf8_bin AS anon_1\n",
      "2017-04-07 23:20:49,556 INFO sqlalchemy.engine.base.Engine {}\n",
      "2017-04-07 23:20:49,937 INFO sqlalchemy.engine.base.Engine DESCRIBE `users`\n",
      "2017-04-07 23:20:49,938 INFO sqlalchemy.engine.base.Engine {}\n",
      "2017-04-07 23:20:50,130 INFO sqlalchemy.engine.base.Engine ROLLBACK\n",
      "2017-04-07 23:20:50,324 INFO sqlalchemy.engine.base.Engine \n",
      "CREATE TABLE users (\n",
      "\tid INTEGER NOT NULL AUTO_INCREMENT, \n",
      "\temail_address VARCHAR(16) NOT NULL, \n",
      "\tPRIMARY KEY (id)\n",
      ")\n",
      "\n",
      "\n",
      "2017-04-07 23:20:50,326 INFO sqlalchemy.engine.base.Engine {}\n",
      "2017-04-07 23:20:50,554 INFO sqlalchemy.engine.base.Engine COMMIT\n"
     ]
    }
   ],
   "source": [
    "metadata.create_all(engine)"
   ]
  },
  {
   "cell_type": "code",
   "execution_count": 16,
   "metadata": {
    "collapsed": true
   },
   "outputs": [],
   "source": [
    "conn = engine.connect()"
   ]
  },
  {
   "cell_type": "code",
   "execution_count": 17,
   "metadata": {
    "collapsed": false
   },
   "outputs": [
    {
     "data": {
      "text/plain": [
       "<sqlalchemy.engine.base.Connection at 0x7f621c021668>"
      ]
     },
     "execution_count": 17,
     "metadata": {},
     "output_type": "execute_result"
    }
   ],
   "source": [
    "conn"
   ]
  },
  {
   "cell_type": "markdown",
   "metadata": {},
   "source": [
    "metadata -> テーブル作成用\n",
    "engine.connect() -> データベースに接続して既存テーブルにアクセス出来るようにする"
   ]
  },
  {
   "cell_type": "code",
   "execution_count": 21,
   "metadata": {
    "collapsed": false
   },
   "outputs": [],
   "source": [
    "from sqlalchemy.orm import sessionmaker\n",
    "from sqlalchemy.ext.declarative import declarative_base\n",
    "Base = declarative_base()\n",
    "\n",
    "class Users(Base):\n",
    "    __tablename__ = 'users'\n",
    "    id = Column(Integer, primary_key=True)\n",
    "    email_address = Column(String)\n",
    "    def __repr__(self):\n",
    "        return \"<User(id='%d', email_address='%s')\" % (self.id, self.email_address)"
   ]
  },
  {
   "cell_type": "code",
   "execution_count": 22,
   "metadata": {
    "collapsed": true
   },
   "outputs": [],
   "source": [
    "Session = sessionmaker()\n",
    "Session.configure(bind=engine)\n",
    "session = Session()"
   ]
  },
  {
   "cell_type": "code",
   "execution_count": 23,
   "metadata": {
    "collapsed": true
   },
   "outputs": [],
   "source": [
    "u = Users(id=1, email_address='foo')\n",
    "session.add(u)"
   ]
  },
  {
   "cell_type": "code",
   "execution_count": 24,
   "metadata": {
    "collapsed": false
   },
   "outputs": [
    {
     "name": "stdout",
     "output_type": "stream",
     "text": [
      "2017-04-08 01:02:16,534 INFO sqlalchemy.engine.base.Engine BEGIN (implicit)\n",
      "2017-04-08 01:02:16,538 INFO sqlalchemy.engine.base.Engine INSERT INTO users (id, email_address) VALUES (%(id)s, %(email_address)s)\n",
      "2017-04-08 01:02:16,539 INFO sqlalchemy.engine.base.Engine {'email_address': 'foo', 'id': 1}\n",
      "2017-04-08 01:02:16,723 INFO sqlalchemy.engine.base.Engine COMMIT\n"
     ]
    }
   ],
   "source": [
    "session.commit()"
   ]
  },
  {
   "cell_type": "code",
   "execution_count": null,
   "metadata": {
    "collapsed": true
   },
   "outputs": [],
   "source": []
  }
 ],
 "metadata": {
  "kernelspec": {
   "display_name": "Python 3",
   "language": "python",
   "name": "python3"
  },
  "language_info": {
   "codemirror_mode": {
    "name": "ipython",
    "version": 3
   },
   "file_extension": ".py",
   "mimetype": "text/x-python",
   "name": "python",
   "nbconvert_exporter": "python",
   "pygments_lexer": "ipython3",
   "version": "3.5.2"
  }
 },
 "nbformat": 4,
 "nbformat_minor": 1
}
